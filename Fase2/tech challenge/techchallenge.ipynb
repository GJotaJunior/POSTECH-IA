{
 "cells": [
  {
   "cell_type": "markdown",
   "metadata": {},
   "source": [
    "# POSTECH - TECH CHALLENGE - FASE 2\n",
    "## Apresentação\n",
    "A gestão eficiente da carga de trabalho dos funcionários é essencial para o sucesso empresarial, mas enfrenta desafios como sobrecarga, distribuição desigual de tarefas e falta de visibilidade. A resolução desses problemas pode trazer benefícios significativos, como aumento da produtividade, melhoria do bem-estar dos funcionários e otimização de recursos, proporcionando uma vantagem competitiva no mercado.\n",
    "## Desafio\n",
    "Otimização de balanceamento de carga de trabalho entre trabalhadores.\n",
    "## Problema\n",
    "Consiste em distribuir um conjunto de tarefas, cada uma com uma duração específica, entre um número fixo de trabalhadores de tal forma que o tempo total de execução (ou carga de trabalho) do trabalhador mais ocupado seja minimizado.\n",
    "### Resolução do problema\n",
    "O problema pode ser descrito da seguinte forma:\n",
    "- **Tarefas**: Uma lista de tarefas, onde cada tarefa tem uma duração específica.\n",
    "- **Trabalhadores**: Um número fixo de trabalhadores.\n",
    "- **Objetivo**: Distribuir as tarefas entre os trabalhadores de modo que o tempo total de execução do trabalhador mais ocupado seja o menor possível."
   ]
  },
  {
   "cell_type": "markdown",
   "metadata": {},
   "source": [
    "# Solução\n",
    "O algoritmo genético utilizado para resolver este problema é implementado usando a biblioteca DEAP (Distributed Evolutionary Algorithms in Python)."
   ]
  },
  {
   "cell_type": "code",
   "execution_count": 205,
   "metadata": {},
   "outputs": [],
   "source": [
    "import random\n",
    "import matplotlib.pyplot as plt\n",
    "import pandas as pd\n",
    "from deap import base, creator, tools, algorithms"
   ]
  },
  {
   "cell_type": "markdown",
   "metadata": {},
   "source": [
    "Definição das tarefas:"
   ]
  },
  {
   "cell_type": "code",
   "execution_count": 206,
   "metadata": {},
   "outputs": [
    {
     "name": "stdout",
     "output_type": "stream",
     "text": [
      "Quantidade de tarefas: 640\n"
     ]
    }
   ],
   "source": [
    "# Cada elemento da lista de tarefas representa uma tarefa a ser executada em horas\n",
    "tasks = [2, 4, 6, 8, 10, 12, 14, 16, 18, 20]\n",
    "tasks.extend(tasks)\n",
    "tasks.extend(tasks)\n",
    "tasks.extend(tasks)\n",
    "tasks.extend(tasks)\n",
    "tasks.extend(tasks)\n",
    "tasks.extend(tasks)\n",
    "\n",
    "# Utillizado o extend para duplicar a lista de tarefas a cada chamada da função\n",
    "print(f'Quantidade de tarefas: {len(tasks)}')"
   ]
  },
  {
   "cell_type": "markdown",
   "metadata": {},
   "source": [
    "Definição do número de traballhadores:"
   ]
  },
  {
   "cell_type": "code",
   "execution_count": 207,
   "metadata": {},
   "outputs": [],
   "source": [
    "num_workers = 3"
   ]
  },
  {
   "cell_type": "markdown",
   "metadata": {},
   "source": [
    "Função de criação de indivíduos:"
   ]
  },
  {
   "cell_type": "code",
   "execution_count": 208,
   "metadata": {},
   "outputs": [],
   "source": [
    "def create_individual():\n",
    "    return [random.randint(0, num_workers - 1) for _ in range(len(tasks))] # Cada tarefa é atribuída a um trabalhador aleatório"
   ]
  },
  {
   "cell_type": "markdown",
   "metadata": {},
   "source": [
    "Função de avaliação:"
   ]
  },
  {
   "cell_type": "code",
   "execution_count": 209,
   "metadata": {},
   "outputs": [],
   "source": [
    "def evaluate(individual):\n",
    "    worker_times = [0] * num_workers # Inicializa a lista de tempos dos trabalhadores\n",
    "    for task, worker in zip(tasks, individual): # Percorre a lista de tarefas e a lista de trabalhadores\n",
    "        worker_times[worker] += task # Adiciona o tempo da tarefa ao tempo do trabalhador\n",
    "    return max(worker_times), # Retorna o maior tempo entre os trabalhadores"
   ]
  },
  {
   "cell_type": "markdown",
   "metadata": {},
   "source": [
    "Função para registrar a evolução do melhor fitness"
   ]
  },
  {
   "cell_type": "code",
   "execution_count": 210,
   "metadata": {},
   "outputs": [],
   "source": [
    "def record_best_fitness(population):\n",
    "    best_individual = tools.selBest(population, k=1)[0] # Seleciona o melhor indivíduo da população\n",
    "    return evaluate(best_individual)[0] # Retorna o tempo do melhor indivíduo"
   ]
  },
  {
   "cell_type": "markdown",
   "metadata": {},
   "source": [
    "Criando a classe Fitness e o indivíduo"
   ]
  },
  {
   "cell_type": "code",
   "execution_count": 211,
   "metadata": {},
   "outputs": [],
   "source": [
    "creator.create(\"FitnessMin\", base.Fitness, weights=(-1.0,)) # Utilizado o -1.0 para minimizar o tempo total de execução\n",
    "creator.create(\"Individual\", list, fitness=creator.FitnessMin) # Utilizado o FitnessMin para minimizar o tempo total de execução"
   ]
  },
  {
   "cell_type": "markdown",
   "metadata": {},
   "source": [
    "Configurando a toolbox do DEAP"
   ]
  },
  {
   "cell_type": "code",
   "execution_count": 212,
   "metadata": {},
   "outputs": [],
   "source": [
    "toolbox = base.Toolbox() # Utilizado para armazenar funções que serão utilizadas no algoritmo genético\n",
    "toolbox.register(\"individual\", tools.initIterate, creator.Individual, create_individual) # Utilizado para criar um indivíduo da população\n",
    "toolbox.register(\"population\", tools.initRepeat, list, toolbox.individual) # Utilizado para criar uma população de indivíduos\n",
    "toolbox.register(\"mate\", tools.cxTwoPoint) # Utilizado para realizar o crossover onde o cxTwoPoint é o crossover de dois pontos\n",
    "toolbox.register(\"mutate\", tools.mutUniformInt, low=0, up=num_workers - 1, indpb=0.2) # Utilizado para realizar a mutação onde o indpb é a probabilidade de mutação\n",
    "toolbox.register(\"select\", tools.selTournament, tournsize=3) # Utilizado para realizar a seleção onde o tournsize é o número de indivíduos no torneio\n",
    "toolbox.register(\"evaluate\", evaluate)"
   ]
  },
  {
   "cell_type": "markdown",
   "metadata": {},
   "source": [
    "Parâmetros do algoritmo genético"
   ]
  },
  {
   "cell_type": "code",
   "execution_count": 213,
   "metadata": {},
   "outputs": [],
   "source": [
    "population_size = 10 # Tamanho da população\n",
    "num_generations = 30 # Número de gerações\n",
    "crossover_prob = 0.7 # Probabilidade de crossover\n",
    "mutation_prob = 0.2 # Probabilidade de mutação"
   ]
  },
  {
   "cell_type": "markdown",
   "metadata": {},
   "source": [
    "Criação da população inicial"
   ]
  },
  {
   "cell_type": "code",
   "execution_count": 214,
   "metadata": {},
   "outputs": [],
   "source": [
    "population = toolbox.population(n=population_size)"
   ]
  },
  {
   "cell_type": "markdown",
   "metadata": {},
   "source": [
    "Execução do algoritmo genético"
   ]
  },
  {
   "cell_type": "code",
   "execution_count": 215,
   "metadata": {},
   "outputs": [],
   "source": [
    "best_fitness_values = [] # Utilizado para armazenar o melhor tempo total de execução de cada geração\n",
    "\n",
    "# Executando o algoritmo genético\n",
    "for gen in range(num_generations): # Utilizado para percorrer as gerações\n",
    "    population = algorithms.varAnd(population, toolbox, cxpb=crossover_prob, mutpb=mutation_prob) # Utilizado para realizar o crossover e a mutação na população\n",
    "    fits = toolbox.map(toolbox.evaluate, population) # Utilizado para calcular o fitness de cada indivíduo da população\n",
    "    for fit, ind in zip(fits, population): # Utilizado para atribuir o fitness de cada indivíduo da população\n",
    "        ind.fitness.values = fit\n",
    "    population = toolbox.select(population, k=len(population)) # Utilizado para selecionar os indivíduos da população que irão para a próxima geração\n",
    "    best_fitness_values.append(record_best_fitness(population)) # Utilizado para armazenar o melhor tempo total de execução de cada geração\n",
    "\n",
    "# Encontrando o melhor indivíduo\n",
    "best_individual = tools.selBest(population, k=1)[0] # Utilizado para encontrar o melhor indivíduo da população\n",
    "best_fitness = evaluate(best_individual)[0] # Utilizado para calcular o fitness do melhor indivíduo"
   ]
  },
  {
   "cell_type": "markdown",
   "metadata": {},
   "source": [
    "Criando gráficos para visualização dos resultados"
   ]
  },
  {
   "cell_type": "code",
   "execution_count": 216,
   "metadata": {},
   "outputs": [
    {
     "data": {
      "image/png": "[encoded data removed]",
      "text/plain": [
       "<Figure size 1000x600 with 1 Axes>"
      ]
     },
     "metadata": {},
     "output_type": "display_data"
    },
    {
     "name": "stdout",
     "output_type": "stream",
     "text": [
      "Melhor indivíduo: [1, 1, 1, 1, 1, 0, 2, 2, 2, 1, 1, 2, 0, 1, 1, 1, 2, 1, 0, 1, 2, 0, 1, 1, 0, 1, 1, 0, 2, 0, 0, 2, 2, 0, 2, 2, 2, 2, 2, 1, 1, 2, 1, 2, 1, 0, 1, 1, 2, 0, 1, 2, 2, 1, 0, 0, 2, 2, 0, 1, 0, 2, 1, 0, 0, 0, 0, 2, 1, 2, 1, 1, 2, 1, 1, 1, 2, 1, 0, 1, 0, 1, 1, 0, 1, 0, 0, 2, 0, 0, 0, 0, 1, 2, 1, 2, 2, 1, 2, 0, 0, 1, 1, 1, 1, 1, 0, 1, 0, 0, 0, 0, 1, 2, 1, 2, 0, 1, 2, 0, 0, 1, 1, 1, 0, 0, 1, 2, 1, 1, 1, 1, 2, 2, 1, 1, 0, 2, 0, 1, 1, 0, 0, 2, 1, 0, 1, 2, 2, 1, 0, 0, 2, 2, 2, 0, 2, 0, 2, 0, 0, 0, 2, 0, 1, 1, 0, 0, 0, 0, 1, 2, 0, 1, 2, 2, 2, 1, 0, 2, 0, 1, 2, 2, 1, 2, 2, 0, 2, 1, 2, 0, 0, 0, 0, 2, 2, 2, 2, 2, 1, 0, 0, 0, 1, 2, 2, 1, 0, 2, 0, 1, 0, 1, 1, 1, 0, 1, 0, 0, 2, 1, 1, 2, 2, 1, 2, 2, 0, 2, 1, 2, 0, 2, 0, 0, 2, 1, 1, 2, 2, 0, 2, 2, 1, 2, 0, 1, 1, 2, 0, 1, 2, 1, 0, 0, 2, 2, 0, 0, 1, 1, 0, 1, 2, 0, 1, 2, 2, 2, 1, 0, 1, 0, 1, 0, 2, 1, 0, 2, 2, 1, 2, 1, 1, 2, 0, 0, 2, 2, 0, 1, 0, 1, 0, 0, 1, 0, 0, 2, 1, 2, 1, 1, 2, 2, 1, 0, 2, 2, 0, 1, 1, 1, 0, 0, 2, 1, 0, 1, 1, 0, 0, 0, 0, 1, 0, 1, 0, 1, 1, 2, 1, 2, 0, 2, 1, 1, 0, 1, 2, 2, 2, 0, 2, 1, 2, 0, 1, 0, 2, 1, 1, 0, 2, 2, 0, 1, 1, 0, 0, 1, 1, 1, 0, 1, 2, 2, 1, 2, 1, 2, 2, 1, 0, 1, 1, 2, 0, 0, 1, 2, 2, 2, 1, 2, 2, 2, 1, 1, 0, 1, 0, 0, 2, 1, 0, 2, 1, 2, 0, 1, 1, 2, 2, 2, 1, 1, 1, 0, 0, 0, 2, 0, 1, 1, 0, 2, 2, 0, 0, 2, 2, 1, 1, 1, 1, 0, 1, 1, 0, 0, 1, 2, 0, 2, 1, 0, 2, 0, 0, 0, 2, 2, 0, 2, 0, 1, 1, 0, 0, 2, 2, 1, 1, 2, 0, 0, 2, 2, 0, 0, 1, 1, 1, 0, 0, 0, 1, 0, 2, 1, 0, 1, 1, 2, 2, 2, 0, 2, 2, 0, 2, 1, 2, 1, 2, 2, 2, 1, 1, 1, 0, 1, 1, 2, 1, 1, 0, 2, 2, 2, 1, 1, 0, 1, 0, 1, 1, 0, 0, 2, 1, 1, 0, 1, 2, 0, 1, 0, 0, 1, 0, 0, 2, 1, 2, 0, 0, 2, 1, 0, 2, 2, 1, 0, 2, 2, 2, 1, 2, 0, 2, 2, 1, 1, 2, 1, 1, 0, 2, 2, 0, 2, 0, 2, 1, 1, 0, 0, 1, 2, 2, 0, 0, 2, 1, 1, 2, 1, 2, 1, 0, 1, 1, 1, 0, 1, 1, 0, 2, 1, 2, 0, 1, 1, 0, 0, 0, 0, 1, 0, 2, 2, 0, 0, 0, 0, 2, 2, 1, 2, 1, 2, 0, 2, 0, 2, 0, 1, 0, 2, 2, 2, 1, 2, 0, 2, 0, 2, 1, 2, 1, 0, 0, 2, 1, 1, 0, 0, 1, 2, 2, 0, 1, 1, 0, 0, 2, 2]\n",
      "Melhor tempo total de execução: 2352\n"
     ]
    }
   ],
   "source": [
    "# Criando um DataFrame para armazenar os dados\n",
    "df = pd.DataFrame({\n",
    "    'Geração': range(1, num_generations + 1),\n",
    "    'Melhor Fitness': best_fitness_values\n",
    "})\n",
    "\n",
    "# Plotando a evolução do melhor fitness\n",
    "plt.figure(figsize=(10, 6))\n",
    "plt.plot(df['Geração'], df['Melhor Fitness'], marker='o', linestyle='-', color='b')\n",
    "plt.title('Evolução do Melhor Fitness ao Longo das Gerações')\n",
    "plt.xlabel('Geração')\n",
    "plt.ylabel('Melhor Fitness')\n",
    "plt.grid(True)\n",
    "plt.show()\n",
    "\n",
    "# Exibindo os resultados\n",
    "print(\"Melhor indivíduo:\", best_individual)\n",
    "print(\"Melhor tempo total de execução:\", best_fitness)"
   ]
  },
  {
   "cell_type": "markdown",
   "metadata": {},
   "source": [
    "### Resultados\n",
    "- O melhor indivíduo encontrado representa a distribuição de tarefas entre os trabalhadores que minimiza o tempo total de execução do trabalhador mais ocupado.\n",
    "- O melhor tempo total de execução é exibido, e a evolução do melhor fitness ao longo das gerações é plotada."
   ]
  }
 ],
 "metadata": {
  "kernelspec": {
   "display_name": ".venv",
   "language": "python",
   "name": "python3"
  },
  "language_info": {
   "codemirror_mode": {
    "name": "ipython",
    "version": 3
   },
   "file_extension": ".py",
   "mimetype": "text/x-python",
   "name": "python",
   "nbconvert_exporter": "python",
   "pygments_lexer": "ipython3",
   "version": "3.10.11"
  }
 },
 "nbformat": 4,
 "nbformat_minor": 2
}
